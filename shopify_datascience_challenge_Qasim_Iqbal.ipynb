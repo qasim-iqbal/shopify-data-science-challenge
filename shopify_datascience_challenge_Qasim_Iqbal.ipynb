{
  "cells": [
    {
      "cell_type": "markdown",
      "metadata": {
        "id": "Gc-hvlCtrOXF"
      },
      "source": [
        "# Fall 2022 Data Science Intern Challenge (Qasim Iqbal)"
      ]
    },
    {
      "cell_type": "code",
      "execution_count": 2,
      "metadata": {
        "id": "HH0J4g18rOXI"
      },
      "outputs": [],
      "source": [
        "# Necessary imports\n",
        "import pandas as pd\n",
        "import matplotlib.pyplot as plt \n",
        "from datetime import datetime\n",
        "\n",
        "# required on Jupiter Notebook\n",
        "%matplotlib inline\n",
        "\n",
        "\n",
        "width, height = 15, 6 # display images dimensions|\n",
        "plt.rcParams['figure.figsize'] = [width, height]"
      ]
    },
    {
      "cell_type": "markdown",
      "metadata": {
        "id": "EYseNh7N4Rbr"
      },
      "source": [
        "You can use table of contents on the left to navigate for solutions to each question"
      ]
    },
    {
      "cell_type": "markdown",
      "metadata": {
        "id": "MIzGuPtXmbOW"
      },
      "source": [
        "## Reading Data in"
      ]
    },
    {
      "cell_type": "code",
      "execution_count": 3,
      "metadata": {
        "colab": {
          "base_uri": "https://localhost:8080/",
          "height": 206
        },
        "id": "bafHie52rOXK",
        "outputId": "e1f4c94d-7851-4157-a92c-f658847ea739"
      },
      "outputs": [
        {
          "data": {
            "text/html": [
              "<div>\n",
              "<style scoped>\n",
              "    .dataframe tbody tr th:only-of-type {\n",
              "        vertical-align: middle;\n",
              "    }\n",
              "\n",
              "    .dataframe tbody tr th {\n",
              "        vertical-align: top;\n",
              "    }\n",
              "\n",
              "    .dataframe thead th {\n",
              "        text-align: right;\n",
              "    }\n",
              "</style>\n",
              "<table border=\"1\" class=\"dataframe\">\n",
              "  <thead>\n",
              "    <tr style=\"text-align: right;\">\n",
              "      <th></th>\n",
              "      <th>order_id</th>\n",
              "      <th>shop_id</th>\n",
              "      <th>user_id</th>\n",
              "      <th>order_amount</th>\n",
              "      <th>total_items</th>\n",
              "      <th>payment_method</th>\n",
              "      <th>created_at</th>\n",
              "    </tr>\n",
              "  </thead>\n",
              "  <tbody>\n",
              "    <tr>\n",
              "      <th>0</th>\n",
              "      <td>1</td>\n",
              "      <td>53</td>\n",
              "      <td>746</td>\n",
              "      <td>224</td>\n",
              "      <td>2</td>\n",
              "      <td>cash</td>\n",
              "      <td>2017-03-13 12:36:56</td>\n",
              "    </tr>\n",
              "    <tr>\n",
              "      <th>1</th>\n",
              "      <td>2</td>\n",
              "      <td>92</td>\n",
              "      <td>925</td>\n",
              "      <td>90</td>\n",
              "      <td>1</td>\n",
              "      <td>cash</td>\n",
              "      <td>2017-03-03 17:38:52</td>\n",
              "    </tr>\n",
              "    <tr>\n",
              "      <th>2</th>\n",
              "      <td>3</td>\n",
              "      <td>44</td>\n",
              "      <td>861</td>\n",
              "      <td>144</td>\n",
              "      <td>1</td>\n",
              "      <td>cash</td>\n",
              "      <td>2017-03-14 4:23:56</td>\n",
              "    </tr>\n",
              "    <tr>\n",
              "      <th>3</th>\n",
              "      <td>4</td>\n",
              "      <td>18</td>\n",
              "      <td>935</td>\n",
              "      <td>156</td>\n",
              "      <td>1</td>\n",
              "      <td>credit_card</td>\n",
              "      <td>2017-03-26 12:43:37</td>\n",
              "    </tr>\n",
              "    <tr>\n",
              "      <th>4</th>\n",
              "      <td>5</td>\n",
              "      <td>18</td>\n",
              "      <td>883</td>\n",
              "      <td>156</td>\n",
              "      <td>1</td>\n",
              "      <td>credit_card</td>\n",
              "      <td>2017-03-01 4:35:11</td>\n",
              "    </tr>\n",
              "  </tbody>\n",
              "</table>\n",
              "</div>"
            ],
            "text/plain": [
              "   order_id  shop_id  user_id  order_amount  total_items payment_method  \\\n",
              "0         1       53      746           224            2           cash   \n",
              "1         2       92      925            90            1           cash   \n",
              "2         3       44      861           144            1           cash   \n",
              "3         4       18      935           156            1    credit_card   \n",
              "4         5       18      883           156            1    credit_card   \n",
              "\n",
              "            created_at  \n",
              "0  2017-03-13 12:36:56  \n",
              "1  2017-03-03 17:38:52  \n",
              "2   2017-03-14 4:23:56  \n",
              "3  2017-03-26 12:43:37  \n",
              "4   2017-03-01 4:35:11  "
            ]
          },
          "execution_count": 3,
          "metadata": {},
          "output_type": "execute_result"
        }
      ],
      "source": [
        "# data source provided in challenge\n",
        "sheet_path = \"2019 Winter Data Science Intern Challenge Data Set - Sheet1 (1).csv\"\n",
        "\n",
        "# read in through URL of google sheet\n",
        "shops_df = pd.read_csv(sheet_path)\n",
        "\n",
        "# show top records from the dataframe\n",
        "shops_df.head()"
      ]
    },
    {
      "cell_type": "code",
      "execution_count": 4,
      "metadata": {
        "colab": {
          "base_uri": "https://localhost:8080/"
        },
        "id": "G-Xf6IpCrOXM",
        "outputId": "1983b373-c4c8-4bb9-8a45-680f23181077"
      },
      "outputs": [
        {
          "name": "stdout",
          "output_type": "stream",
          "text": [
            "order_id  :  0\n",
            "shop_id  :  0\n",
            "user_id  :  0\n",
            "order_amount  :  0\n",
            "total_items  :  0\n",
            "payment_method  :  0\n",
            "created_at  :  0\n"
          ]
        }
      ],
      "source": [
        "# check if there are null or empty records in any column\n",
        "for c in shops_df.columns:\n",
        "    print(c,\" : \", shops_df[c].isna().sum()) # get count of NA records and sum them"
      ]
    },
    {
      "cell_type": "code",
      "execution_count": 5,
      "metadata": {
        "colab": {
          "base_uri": "https://localhost:8080/",
          "height": 300
        },
        "id": "MqeinRwLmIoV",
        "outputId": "c7edc91b-3eb0-425e-a19a-30e10a783d3c"
      },
      "outputs": [
        {
          "data": {
            "text/html": [
              "<div>\n",
              "<style scoped>\n",
              "    .dataframe tbody tr th:only-of-type {\n",
              "        vertical-align: middle;\n",
              "    }\n",
              "\n",
              "    .dataframe tbody tr th {\n",
              "        vertical-align: top;\n",
              "    }\n",
              "\n",
              "    .dataframe thead th {\n",
              "        text-align: right;\n",
              "    }\n",
              "</style>\n",
              "<table border=\"1\" class=\"dataframe\">\n",
              "  <thead>\n",
              "    <tr style=\"text-align: right;\">\n",
              "      <th></th>\n",
              "      <th>order_id</th>\n",
              "      <th>shop_id</th>\n",
              "      <th>user_id</th>\n",
              "      <th>order_amount</th>\n",
              "      <th>total_items</th>\n",
              "    </tr>\n",
              "  </thead>\n",
              "  <tbody>\n",
              "    <tr>\n",
              "      <th>count</th>\n",
              "      <td>5000.000000</td>\n",
              "      <td>5000.000000</td>\n",
              "      <td>5000.000000</td>\n",
              "      <td>5000.000000</td>\n",
              "      <td>5000.00000</td>\n",
              "    </tr>\n",
              "    <tr>\n",
              "      <th>mean</th>\n",
              "      <td>2500.500000</td>\n",
              "      <td>50.078800</td>\n",
              "      <td>849.092400</td>\n",
              "      <td>3145.128000</td>\n",
              "      <td>8.78720</td>\n",
              "    </tr>\n",
              "    <tr>\n",
              "      <th>std</th>\n",
              "      <td>1443.520003</td>\n",
              "      <td>29.006118</td>\n",
              "      <td>87.798982</td>\n",
              "      <td>41282.539349</td>\n",
              "      <td>116.32032</td>\n",
              "    </tr>\n",
              "    <tr>\n",
              "      <th>min</th>\n",
              "      <td>1.000000</td>\n",
              "      <td>1.000000</td>\n",
              "      <td>607.000000</td>\n",
              "      <td>90.000000</td>\n",
              "      <td>1.00000</td>\n",
              "    </tr>\n",
              "    <tr>\n",
              "      <th>25%</th>\n",
              "      <td>1250.750000</td>\n",
              "      <td>24.000000</td>\n",
              "      <td>775.000000</td>\n",
              "      <td>163.000000</td>\n",
              "      <td>1.00000</td>\n",
              "    </tr>\n",
              "    <tr>\n",
              "      <th>50%</th>\n",
              "      <td>2500.500000</td>\n",
              "      <td>50.000000</td>\n",
              "      <td>849.000000</td>\n",
              "      <td>284.000000</td>\n",
              "      <td>2.00000</td>\n",
              "    </tr>\n",
              "    <tr>\n",
              "      <th>75%</th>\n",
              "      <td>3750.250000</td>\n",
              "      <td>75.000000</td>\n",
              "      <td>925.000000</td>\n",
              "      <td>390.000000</td>\n",
              "      <td>3.00000</td>\n",
              "    </tr>\n",
              "    <tr>\n",
              "      <th>max</th>\n",
              "      <td>5000.000000</td>\n",
              "      <td>100.000000</td>\n",
              "      <td>999.000000</td>\n",
              "      <td>704000.000000</td>\n",
              "      <td>2000.00000</td>\n",
              "    </tr>\n",
              "  </tbody>\n",
              "</table>\n",
              "</div>"
            ],
            "text/plain": [
              "          order_id      shop_id      user_id   order_amount  total_items\n",
              "count  5000.000000  5000.000000  5000.000000    5000.000000   5000.00000\n",
              "mean   2500.500000    50.078800   849.092400    3145.128000      8.78720\n",
              "std    1443.520003    29.006118    87.798982   41282.539349    116.32032\n",
              "min       1.000000     1.000000   607.000000      90.000000      1.00000\n",
              "25%    1250.750000    24.000000   775.000000     163.000000      1.00000\n",
              "50%    2500.500000    50.000000   849.000000     284.000000      2.00000\n",
              "75%    3750.250000    75.000000   925.000000     390.000000      3.00000\n",
              "max    5000.000000   100.000000   999.000000  704000.000000   2000.00000"
            ]
          },
          "execution_count": 5,
          "metadata": {},
          "output_type": "execute_result"
        }
      ],
      "source": [
        "shops_df.describe()"
      ]
    },
    {
      "cell_type": "markdown",
      "metadata": {
        "id": "RF_tBzJyrOXK"
      },
      "source": [
        "## Question 1: Given some sample data, write a program to answer the following: \n",
        "\n",
        "On Shopify, we have exactly 100 sneaker shops, and each of these shops sells only one model of shoe. We want to do some analysis of the average order value (AOV). When we look at orders data over a 30 day window, we naively calculate an AOV of $3145.13. Given that we know these shops are selling sneakers, a relatively affordable item, something seems wrong with our analysis. \n"
      ]
    },
    {
      "cell_type": "markdown",
      "metadata": {
        "id": "kiHy5y6rqMXy"
      },
      "source": [
        "### 1a. Think about what could be going wrong with our calculation. Think about a better way to evaluate this data."
      ]
    },
    {
      "cell_type": "markdown",
      "metadata": {
        "id": "O5iLp1DFtwmW"
      },
      "source": [
        "Solution: I don't think mean is the right metric to be used here as a few anomaly records can heavily affect the total AOV (Avergae Order Value). I think a better metric would be the one which does not get much affected by extreme outliers.\n",
        "\n",
        "As we can see in the analysis below, Shop Id 42 and 78 are outliers as the median order amount is $284 where as both of these shops have total order amounts in millions. User_id 607 and 823 have bought most of the expensive shoes heavily skewing the mean average. "
      ]
    },
    {
      "cell_type": "markdown",
      "metadata": {
        "id": "rIE4ADo-4lGP"
      },
      "source": [
        "### Analysis"
      ]
    },
    {
      "cell_type": "code",
      "execution_count": 6,
      "metadata": {
        "colab": {
          "base_uri": "https://localhost:8080/",
          "height": 421
        },
        "id": "Qk9h-WlwrOXO",
        "outputId": "72b6e788-51e0-4050-940e-9a6570d065da"
      },
      "outputs": [
        {
          "data": {
            "text/plain": [
              "[]"
            ]
          },
          "execution_count": 6,
          "metadata": {},
          "output_type": "execute_result"
        },
        {
          "data": {
            "image/png": "[encoded data removed]",
            "text/plain": [
              "<Figure size 1080x432 with 1 Axes>"
            ]
          },
          "metadata": {
            "needs_background": "light"
          },
          "output_type": "display_data"
        }
      ],
      "source": [
        "# check visually what order amounts look like for each shop\n",
        "plt.title(\"Shop ID vs Order Amount\")\n",
        "plt.xlabel(\"Shop ID\")\n",
        "plt.ylabel(\"Order amount\")\n",
        "plt.bar(shops_df['shop_id'], shops_df['order_amount'])\n",
        "plt.plot()"
      ]
    },
    {
      "cell_type": "markdown",
      "metadata": {
        "id": "NkiFj1GtrOXP"
      },
      "source": [
        "In bar plot above we can see that, there are two anomaly records shop_id 42 and 78.\n",
        "These two shops can make the total average way off, as the average is the sum of all order amounts by each shop and then divided by the total number of shops.\n",
        "These anomaly records can be an error in typing or just very expensive shoes."
      ]
    },
    {
      "cell_type": "code",
      "execution_count": 7,
      "metadata": {
        "colab": {
          "base_uri": "https://localhost:8080/",
          "height": 455
        },
        "id": "f9vhlAsmoe7u",
        "outputId": "bbfb4e3a-263f-4134-e13d-073e9d89da7e"
      },
      "outputs": [
        {
          "data": {
            "text/html": [
              "<div>\n",
              "<style scoped>\n",
              "    .dataframe tbody tr th:only-of-type {\n",
              "        vertical-align: middle;\n",
              "    }\n",
              "\n",
              "    .dataframe tbody tr th {\n",
              "        vertical-align: top;\n",
              "    }\n",
              "\n",
              "    .dataframe thead th {\n",
              "        text-align: right;\n",
              "    }\n",
              "</style>\n",
              "<table border=\"1\" class=\"dataframe\">\n",
              "  <thead>\n",
              "    <tr style=\"text-align: right;\">\n",
              "      <th></th>\n",
              "      <th>order_id</th>\n",
              "      <th>user_id</th>\n",
              "      <th>order_amount</th>\n",
              "      <th>total_items</th>\n",
              "    </tr>\n",
              "    <tr>\n",
              "      <th>shop_id</th>\n",
              "      <th></th>\n",
              "      <th></th>\n",
              "      <th></th>\n",
              "      <th></th>\n",
              "    </tr>\n",
              "  </thead>\n",
              "  <tbody>\n",
              "    <tr>\n",
              "      <th>42</th>\n",
              "      <td>124538</td>\n",
              "      <td>38688</td>\n",
              "      <td>11990176</td>\n",
              "      <td>34063</td>\n",
              "    </tr>\n",
              "    <tr>\n",
              "      <th>78</th>\n",
              "      <td>122499</td>\n",
              "      <td>39916</td>\n",
              "      <td>2263800</td>\n",
              "      <td>88</td>\n",
              "    </tr>\n",
              "    <tr>\n",
              "      <th>89</th>\n",
              "      <td>172859</td>\n",
              "      <td>50618</td>\n",
              "      <td>23128</td>\n",
              "      <td>118</td>\n",
              "    </tr>\n",
              "    <tr>\n",
              "      <th>81</th>\n",
              "      <td>158452</td>\n",
              "      <td>49317</td>\n",
              "      <td>22656</td>\n",
              "      <td>128</td>\n",
              "    </tr>\n",
              "    <tr>\n",
              "      <th>6</th>\n",
              "      <td>143483</td>\n",
              "      <td>49818</td>\n",
              "      <td>22627</td>\n",
              "      <td>121</td>\n",
              "    </tr>\n",
              "    <tr>\n",
              "      <th>...</th>\n",
              "      <td>...</td>\n",
              "      <td>...</td>\n",
              "      <td>...</td>\n",
              "      <td>...</td>\n",
              "    </tr>\n",
              "    <tr>\n",
              "      <th>2</th>\n",
              "      <td>126448</td>\n",
              "      <td>47370</td>\n",
              "      <td>9588</td>\n",
              "      <td>102</td>\n",
              "    </tr>\n",
              "    <tr>\n",
              "      <th>100</th>\n",
              "      <td>94261</td>\n",
              "      <td>34093</td>\n",
              "      <td>8547</td>\n",
              "      <td>77</td>\n",
              "    </tr>\n",
              "    <tr>\n",
              "      <th>56</th>\n",
              "      <td>91134</td>\n",
              "      <td>31211</td>\n",
              "      <td>8073</td>\n",
              "      <td>69</td>\n",
              "    </tr>\n",
              "    <tr>\n",
              "      <th>32</th>\n",
              "      <td>96561</td>\n",
              "      <td>35986</td>\n",
              "      <td>7979</td>\n",
              "      <td>79</td>\n",
              "    </tr>\n",
              "    <tr>\n",
              "      <th>92</th>\n",
              "      <td>102864</td>\n",
              "      <td>36334</td>\n",
              "      <td>6840</td>\n",
              "      <td>76</td>\n",
              "    </tr>\n",
              "  </tbody>\n",
              "</table>\n",
              "<p>100 rows × 4 columns</p>\n",
              "</div>"
            ],
            "text/plain": [
              "         order_id  user_id  order_amount  total_items\n",
              "shop_id                                              \n",
              "42         124538    38688      11990176        34063\n",
              "78         122499    39916       2263800           88\n",
              "89         172859    50618         23128          118\n",
              "81         158452    49317         22656          128\n",
              "6          143483    49818         22627          121\n",
              "...           ...      ...           ...          ...\n",
              "2          126448    47370          9588          102\n",
              "100         94261    34093          8547           77\n",
              "56          91134    31211          8073           69\n",
              "32          96561    35986          7979           79\n",
              "92         102864    36334          6840           76\n",
              "\n",
              "[100 rows x 4 columns]"
            ]
          },
          "execution_count": 7,
          "metadata": {},
          "output_type": "execute_result"
        }
      ],
      "source": [
        "# groupby shop id and sort by order amount to see which shop has the highest order amount\n",
        "shops_df.groupby('shop_id').sum().sort_values(by=\"order_amount\", ascending=False)"
      ]
    },
    {
      "cell_type": "code",
      "execution_count": 8,
      "metadata": {
        "colab": {
          "base_uri": "https://localhost:8080/",
          "height": 424
        },
        "id": "4-I0W769xlHy",
        "outputId": "3161ddf6-5995-4bc2-858b-9dbbfa0436ba"
      },
      "outputs": [
        {
          "data": {
            "text/html": [
              "<div>\n",
              "<style scoped>\n",
              "    .dataframe tbody tr th:only-of-type {\n",
              "        vertical-align: middle;\n",
              "    }\n",
              "\n",
              "    .dataframe tbody tr th {\n",
              "        vertical-align: top;\n",
              "    }\n",
              "\n",
              "    .dataframe thead th {\n",
              "        text-align: right;\n",
              "    }\n",
              "</style>\n",
              "<table border=\"1\" class=\"dataframe\">\n",
              "  <thead>\n",
              "    <tr style=\"text-align: right;\">\n",
              "      <th></th>\n",
              "      <th>order_id</th>\n",
              "      <th>shop_id</th>\n",
              "      <th>user_id</th>\n",
              "      <th>order_amount</th>\n",
              "      <th>total_items</th>\n",
              "      <th>payment_method</th>\n",
              "      <th>created_at</th>\n",
              "    </tr>\n",
              "  </thead>\n",
              "  <tbody>\n",
              "    <tr>\n",
              "      <th>15</th>\n",
              "      <td>16</td>\n",
              "      <td>42</td>\n",
              "      <td>607</td>\n",
              "      <td>704000</td>\n",
              "      <td>2000</td>\n",
              "      <td>credit_card</td>\n",
              "      <td>2017-03-07 4:00:00</td>\n",
              "    </tr>\n",
              "    <tr>\n",
              "      <th>40</th>\n",
              "      <td>41</td>\n",
              "      <td>42</td>\n",
              "      <td>793</td>\n",
              "      <td>352</td>\n",
              "      <td>1</td>\n",
              "      <td>credit_card</td>\n",
              "      <td>2017-03-24 14:15:41</td>\n",
              "    </tr>\n",
              "    <tr>\n",
              "      <th>60</th>\n",
              "      <td>61</td>\n",
              "      <td>42</td>\n",
              "      <td>607</td>\n",
              "      <td>704000</td>\n",
              "      <td>2000</td>\n",
              "      <td>credit_card</td>\n",
              "      <td>2017-03-04 4:00:00</td>\n",
              "    </tr>\n",
              "    <tr>\n",
              "      <th>160</th>\n",
              "      <td>161</td>\n",
              "      <td>78</td>\n",
              "      <td>990</td>\n",
              "      <td>25725</td>\n",
              "      <td>1</td>\n",
              "      <td>credit_card</td>\n",
              "      <td>2017-03-12 5:56:57</td>\n",
              "    </tr>\n",
              "    <tr>\n",
              "      <th>308</th>\n",
              "      <td>309</td>\n",
              "      <td>42</td>\n",
              "      <td>770</td>\n",
              "      <td>352</td>\n",
              "      <td>1</td>\n",
              "      <td>credit_card</td>\n",
              "      <td>2017-03-11 18:14:39</td>\n",
              "    </tr>\n",
              "    <tr>\n",
              "      <th>...</th>\n",
              "      <td>...</td>\n",
              "      <td>...</td>\n",
              "      <td>...</td>\n",
              "      <td>...</td>\n",
              "      <td>...</td>\n",
              "      <td>...</td>\n",
              "      <td>...</td>\n",
              "    </tr>\n",
              "    <tr>\n",
              "      <th>4745</th>\n",
              "      <td>4746</td>\n",
              "      <td>42</td>\n",
              "      <td>872</td>\n",
              "      <td>352</td>\n",
              "      <td>1</td>\n",
              "      <td>debit</td>\n",
              "      <td>2017-03-24 0:57:24</td>\n",
              "    </tr>\n",
              "    <tr>\n",
              "      <th>4767</th>\n",
              "      <td>4768</td>\n",
              "      <td>42</td>\n",
              "      <td>720</td>\n",
              "      <td>704</td>\n",
              "      <td>2</td>\n",
              "      <td>credit_card</td>\n",
              "      <td>2017-03-14 10:26:08</td>\n",
              "    </tr>\n",
              "    <tr>\n",
              "      <th>4868</th>\n",
              "      <td>4869</td>\n",
              "      <td>42</td>\n",
              "      <td>607</td>\n",
              "      <td>704000</td>\n",
              "      <td>2000</td>\n",
              "      <td>credit_card</td>\n",
              "      <td>2017-03-22 4:00:00</td>\n",
              "    </tr>\n",
              "    <tr>\n",
              "      <th>4882</th>\n",
              "      <td>4883</td>\n",
              "      <td>42</td>\n",
              "      <td>607</td>\n",
              "      <td>704000</td>\n",
              "      <td>2000</td>\n",
              "      <td>credit_card</td>\n",
              "      <td>2017-03-25 4:00:00</td>\n",
              "    </tr>\n",
              "    <tr>\n",
              "      <th>4918</th>\n",
              "      <td>4919</td>\n",
              "      <td>78</td>\n",
              "      <td>823</td>\n",
              "      <td>25725</td>\n",
              "      <td>1</td>\n",
              "      <td>cash</td>\n",
              "      <td>2017-03-15 13:26:46</td>\n",
              "    </tr>\n",
              "  </tbody>\n",
              "</table>\n",
              "<p>97 rows × 7 columns</p>\n",
              "</div>"
            ],
            "text/plain": [
              "      order_id  shop_id  user_id  order_amount  total_items payment_method  \\\n",
              "15          16       42      607        704000         2000    credit_card   \n",
              "40          41       42      793           352            1    credit_card   \n",
              "60          61       42      607        704000         2000    credit_card   \n",
              "160        161       78      990         25725            1    credit_card   \n",
              "308        309       42      770           352            1    credit_card   \n",
              "...        ...      ...      ...           ...          ...            ...   \n",
              "4745      4746       42      872           352            1          debit   \n",
              "4767      4768       42      720           704            2    credit_card   \n",
              "4868      4869       42      607        704000         2000    credit_card   \n",
              "4882      4883       42      607        704000         2000    credit_card   \n",
              "4918      4919       78      823         25725            1           cash   \n",
              "\n",
              "               created_at  \n",
              "15     2017-03-07 4:00:00  \n",
              "40    2017-03-24 14:15:41  \n",
              "60     2017-03-04 4:00:00  \n",
              "160    2017-03-12 5:56:57  \n",
              "308   2017-03-11 18:14:39  \n",
              "...                   ...  \n",
              "4745   2017-03-24 0:57:24  \n",
              "4767  2017-03-14 10:26:08  \n",
              "4868   2017-03-22 4:00:00  \n",
              "4882   2017-03-25 4:00:00  \n",
              "4918  2017-03-15 13:26:46  \n",
              "\n",
              "[97 rows x 7 columns]"
            ]
          },
          "execution_count": 8,
          "metadata": {},
          "output_type": "execute_result"
        }
      ],
      "source": [
        "shops_df.query('shop_id in [42, 78]')"
      ]
    },
    {
      "cell_type": "code",
      "execution_count": null,
      "metadata": {
        "colab": {
          "base_uri": "https://localhost:8080/",
          "height": 802
        },
        "id": "HFAlJvlSyIao",
        "outputId": "7164b181-f4a9-4ac3-cb91-548751168ae0"
      },
      "outputs": [
        {
          "data": {
            "text/html": [
              "\n",
              "  <div id=\"df-dbf4b140-bc04-46f2-96ec-4a1f0198d166\">\n",
              "    <div class=\"colab-df-container\">\n",
              "      <div>\n",
              "<style scoped>\n",
              "    .dataframe tbody tr th:only-of-type {\n",
              "        vertical-align: middle;\n",
              "    }\n",
              "\n",
              "    .dataframe tbody tr th {\n",
              "        vertical-align: top;\n",
              "    }\n",
              "\n",
              "    .dataframe thead th {\n",
              "        text-align: right;\n",
              "    }\n",
              "</style>\n",
              "<table border=\"1\" class=\"dataframe\">\n",
              "  <thead>\n",
              "    <tr style=\"text-align: right;\">\n",
              "      <th></th>\n",
              "      <th>order_id</th>\n",
              "      <th>shop_id</th>\n",
              "      <th>user_id</th>\n",
              "      <th>order_amount</th>\n",
              "      <th>total_items</th>\n",
              "      <th>payment_method</th>\n",
              "      <th>created_at</th>\n",
              "    </tr>\n",
              "  </thead>\n",
              "  <tbody>\n",
              "    <tr>\n",
              "      <th>54</th>\n",
              "      <td>55</td>\n",
              "      <td>79</td>\n",
              "      <td>823</td>\n",
              "      <td>181</td>\n",
              "      <td>1</td>\n",
              "      <td>cash</td>\n",
              "      <td>2017-03-25 4:47:17</td>\n",
              "    </tr>\n",
              "    <tr>\n",
              "      <th>181</th>\n",
              "      <td>182</td>\n",
              "      <td>20</td>\n",
              "      <td>823</td>\n",
              "      <td>127</td>\n",
              "      <td>1</td>\n",
              "      <td>cash</td>\n",
              "      <td>2017-03-03 16:29:13</td>\n",
              "    </tr>\n",
              "    <tr>\n",
              "      <th>524</th>\n",
              "      <td>525</td>\n",
              "      <td>8</td>\n",
              "      <td>823</td>\n",
              "      <td>396</td>\n",
              "      <td>3</td>\n",
              "      <td>cash</td>\n",
              "      <td>2017-03-26 17:16:10</td>\n",
              "    </tr>\n",
              "    <tr>\n",
              "      <th>1235</th>\n",
              "      <td>1236</td>\n",
              "      <td>25</td>\n",
              "      <td>823</td>\n",
              "      <td>130</td>\n",
              "      <td>1</td>\n",
              "      <td>debit</td>\n",
              "      <td>2017-03-28 5:12:57</td>\n",
              "    </tr>\n",
              "    <tr>\n",
              "      <th>1959</th>\n",
              "      <td>1960</td>\n",
              "      <td>44</td>\n",
              "      <td>823</td>\n",
              "      <td>432</td>\n",
              "      <td>3</td>\n",
              "      <td>debit</td>\n",
              "      <td>2017-03-29 6:25:06</td>\n",
              "    </tr>\n",
              "    <tr>\n",
              "      <th>2162</th>\n",
              "      <td>2163</td>\n",
              "      <td>40</td>\n",
              "      <td>823</td>\n",
              "      <td>161</td>\n",
              "      <td>1</td>\n",
              "      <td>credit_card</td>\n",
              "      <td>2017-03-26 16:17:30</td>\n",
              "    </tr>\n",
              "    <tr>\n",
              "      <th>2238</th>\n",
              "      <td>2239</td>\n",
              "      <td>71</td>\n",
              "      <td>823</td>\n",
              "      <td>164</td>\n",
              "      <td>1</td>\n",
              "      <td>debit</td>\n",
              "      <td>2017-03-27 22:17:10</td>\n",
              "    </tr>\n",
              "    <tr>\n",
              "      <th>2397</th>\n",
              "      <td>2398</td>\n",
              "      <td>69</td>\n",
              "      <td>823</td>\n",
              "      <td>524</td>\n",
              "      <td>4</td>\n",
              "      <td>debit</td>\n",
              "      <td>2017-03-02 3:47:32</td>\n",
              "    </tr>\n",
              "    <tr>\n",
              "      <th>2583</th>\n",
              "      <td>2584</td>\n",
              "      <td>12</td>\n",
              "      <td>823</td>\n",
              "      <td>201</td>\n",
              "      <td>1</td>\n",
              "      <td>credit_card</td>\n",
              "      <td>2017-03-11 10:25:39</td>\n",
              "    </tr>\n",
              "    <tr>\n",
              "      <th>2651</th>\n",
              "      <td>2652</td>\n",
              "      <td>49</td>\n",
              "      <td>823</td>\n",
              "      <td>258</td>\n",
              "      <td>2</td>\n",
              "      <td>credit_card</td>\n",
              "      <td>2017-03-25 13:05:03</td>\n",
              "    </tr>\n",
              "    <tr>\n",
              "      <th>2805</th>\n",
              "      <td>2806</td>\n",
              "      <td>82</td>\n",
              "      <td>823</td>\n",
              "      <td>708</td>\n",
              "      <td>4</td>\n",
              "      <td>credit_card</td>\n",
              "      <td>2017-03-23 16:38:29</td>\n",
              "    </tr>\n",
              "    <tr>\n",
              "      <th>2879</th>\n",
              "      <td>2880</td>\n",
              "      <td>39</td>\n",
              "      <td>823</td>\n",
              "      <td>134</td>\n",
              "      <td>1</td>\n",
              "      <td>debit</td>\n",
              "      <td>2017-03-21 19:54:30</td>\n",
              "    </tr>\n",
              "    <tr>\n",
              "      <th>2902</th>\n",
              "      <td>2903</td>\n",
              "      <td>48</td>\n",
              "      <td>823</td>\n",
              "      <td>234</td>\n",
              "      <td>2</td>\n",
              "      <td>credit_card</td>\n",
              "      <td>2017-03-10 20:20:22</td>\n",
              "    </tr>\n",
              "    <tr>\n",
              "      <th>3244</th>\n",
              "      <td>3245</td>\n",
              "      <td>74</td>\n",
              "      <td>823</td>\n",
              "      <td>153</td>\n",
              "      <td>1</td>\n",
              "      <td>credit_card</td>\n",
              "      <td>2017-03-03 13:31:44</td>\n",
              "    </tr>\n",
              "    <tr>\n",
              "      <th>3306</th>\n",
              "      <td>3307</td>\n",
              "      <td>45</td>\n",
              "      <td>823</td>\n",
              "      <td>142</td>\n",
              "      <td>1</td>\n",
              "      <td>credit_card</td>\n",
              "      <td>2017-03-21 17:27:45</td>\n",
              "    </tr>\n",
              "    <tr>\n",
              "      <th>3400</th>\n",
              "      <td>3401</td>\n",
              "      <td>98</td>\n",
              "      <td>823</td>\n",
              "      <td>133</td>\n",
              "      <td>1</td>\n",
              "      <td>credit_card</td>\n",
              "      <td>2017-03-23 6:53:06</td>\n",
              "    </tr>\n",
              "    <tr>\n",
              "      <th>3420</th>\n",
              "      <td>3421</td>\n",
              "      <td>61</td>\n",
              "      <td>823</td>\n",
              "      <td>158</td>\n",
              "      <td>1</td>\n",
              "      <td>credit_card</td>\n",
              "      <td>2017-03-10 16:59:18</td>\n",
              "    </tr>\n",
              "    <tr>\n",
              "      <th>3498</th>\n",
              "      <td>3499</td>\n",
              "      <td>62</td>\n",
              "      <td>823</td>\n",
              "      <td>160</td>\n",
              "      <td>1</td>\n",
              "      <td>cash</td>\n",
              "      <td>2017-03-13 21:00:36</td>\n",
              "    </tr>\n",
              "    <tr>\n",
              "      <th>3758</th>\n",
              "      <td>3759</td>\n",
              "      <td>63</td>\n",
              "      <td>823</td>\n",
              "      <td>272</td>\n",
              "      <td>2</td>\n",
              "      <td>credit_card</td>\n",
              "      <td>2017-03-13 1:08:54</td>\n",
              "    </tr>\n",
              "    <tr>\n",
              "      <th>3792</th>\n",
              "      <td>3793</td>\n",
              "      <td>12</td>\n",
              "      <td>823</td>\n",
              "      <td>201</td>\n",
              "      <td>1</td>\n",
              "      <td>credit_card</td>\n",
              "      <td>2017-03-29 9:26:09</td>\n",
              "    </tr>\n",
              "    <tr>\n",
              "      <th>4287</th>\n",
              "      <td>4288</td>\n",
              "      <td>58</td>\n",
              "      <td>823</td>\n",
              "      <td>138</td>\n",
              "      <td>1</td>\n",
              "      <td>debit</td>\n",
              "      <td>2017-03-16 17:09:11</td>\n",
              "    </tr>\n",
              "    <tr>\n",
              "      <th>4652</th>\n",
              "      <td>4653</td>\n",
              "      <td>85</td>\n",
              "      <td>823</td>\n",
              "      <td>344</td>\n",
              "      <td>2</td>\n",
              "      <td>debit</td>\n",
              "      <td>2017-03-15 23:23:28</td>\n",
              "    </tr>\n",
              "    <tr>\n",
              "      <th>4918</th>\n",
              "      <td>4919</td>\n",
              "      <td>78</td>\n",
              "      <td>823</td>\n",
              "      <td>25725</td>\n",
              "      <td>1</td>\n",
              "      <td>cash</td>\n",
              "      <td>2017-03-15 13:26:46</td>\n",
              "    </tr>\n",
              "    <tr>\n",
              "      <th>4932</th>\n",
              "      <td>4933</td>\n",
              "      <td>92</td>\n",
              "      <td>823</td>\n",
              "      <td>90</td>\n",
              "      <td>1</td>\n",
              "      <td>credit_card</td>\n",
              "      <td>2017-03-24 2:17:13</td>\n",
              "    </tr>\n",
              "  </tbody>\n",
              "</table>\n",
              "</div>\n",
              "      <button class=\"colab-df-convert\" onclick=\"convertToInteractive('df-dbf4b140-bc04-46f2-96ec-4a1f0198d166')\"\n",
              "              title=\"Convert this dataframe to an interactive table.\"\n",
              "              style=\"display:none;\">\n",
              "        \n",
              "  <svg xmlns=\"http://www.w3.org/2000/svg\" height=\"24px\"viewBox=\"0 0 24 24\"\n",
              "       width=\"24px\">\n",
              "    <path d=\"M0 0h24v24H0V0z\" fill=\"none\"/>\n",
              "    <path d=\"M18.56 5.44l.94 2.06.94-2.06 2.06-.94-2.06-.94-.94-2.06-.94 2.06-2.06.94zm-11 1L8.5 8.5l.94-2.06 2.06-.94-2.06-.94L8.5 2.5l-.94 2.06-2.06.94zm10 10l.94 2.06.94-2.06 2.06-.94-2.06-.94-.94-2.06-.94 2.06-2.06.94z\"/><path d=\"M17.41 7.96l-1.37-1.37c-.4-.4-.92-.59-1.43-.59-.52 0-1.04.2-1.43.59L10.3 9.45l-7.72 7.72c-.78.78-.78 2.05 0 2.83L4 21.41c.39.39.9.59 1.41.59.51 0 1.02-.2 1.41-.59l7.78-7.78 2.81-2.81c.8-.78.8-2.07 0-2.86zM5.41 20L4 18.59l7.72-7.72 1.47 1.35L5.41 20z\"/>\n",
              "  </svg>\n",
              "      </button>\n",
              "      \n",
              "  <style>\n",
              "    .colab-df-container {\n",
              "      display:flex;\n",
              "      flex-wrap:wrap;\n",
              "      gap: 12px;\n",
              "    }\n",
              "\n",
              "    .colab-df-convert {\n",
              "      background-color: #E8F0FE;\n",
              "      border: none;\n",
              "      border-radius: 50%;\n",
              "      cursor: pointer;\n",
              "      display: none;\n",
              "      fill: #1967D2;\n",
              "      height: 32px;\n",
              "      padding: 0 0 0 0;\n",
              "      width: 32px;\n",
              "    }\n",
              "\n",
              "    .colab-df-convert:hover {\n",
              "      background-color: #E2EBFA;\n",
              "      box-shadow: 0px 1px 2px rgba(60, 64, 67, 0.3), 0px 1px 3px 1px rgba(60, 64, 67, 0.15);\n",
              "      fill: #174EA6;\n",
              "    }\n",
              "\n",
              "    [theme=dark] .colab-df-convert {\n",
              "      background-color: #3B4455;\n",
              "      fill: #D2E3FC;\n",
              "    }\n",
              "\n",
              "    [theme=dark] .colab-df-convert:hover {\n",
              "      background-color: #434B5C;\n",
              "      box-shadow: 0px 1px 3px 1px rgba(0, 0, 0, 0.15);\n",
              "      filter: drop-shadow(0px 1px 2px rgba(0, 0, 0, 0.3));\n",
              "      fill: #FFFFFF;\n",
              "    }\n",
              "  </style>\n",
              "\n",
              "      <script>\n",
              "        const buttonEl =\n",
              "          document.querySelector('#df-dbf4b140-bc04-46f2-96ec-4a1f0198d166 button.colab-df-convert');\n",
              "        buttonEl.style.display =\n",
              "          google.colab.kernel.accessAllowed ? 'block' : 'none';\n",
              "\n",
              "        async function convertToInteractive(key) {\n",
              "          const element = document.querySelector('#df-dbf4b140-bc04-46f2-96ec-4a1f0198d166');\n",
              "          const dataTable =\n",
              "            await google.colab.kernel.invokeFunction('convertToInteractive',\n",
              "                                                     [key], {});\n",
              "          if (!dataTable) return;\n",
              "\n",
              "          const docLinkHtml = 'Like what you see? Visit the ' +\n",
              "            '<a target=\"_blank\" href=https://colab.research.google.com/notebooks/data_table.ipynb>data table notebook</a>'\n",
              "            + ' to learn more about interactive tables.';\n",
              "          element.innerHTML = '';\n",
              "          dataTable['output_type'] = 'display_data';\n",
              "          await google.colab.output.renderOutput(dataTable, element);\n",
              "          const docLink = document.createElement('div');\n",
              "          docLink.innerHTML = docLinkHtml;\n",
              "          element.appendChild(docLink);\n",
              "        }\n",
              "      </script>\n",
              "    </div>\n",
              "  </div>\n",
              "  "
            ],
            "text/plain": [
              "      order_id  shop_id  user_id  order_amount  total_items payment_method  \\\n",
              "54          55       79      823           181            1           cash   \n",
              "181        182       20      823           127            1           cash   \n",
              "524        525        8      823           396            3           cash   \n",
              "1235      1236       25      823           130            1          debit   \n",
              "1959      1960       44      823           432            3          debit   \n",
              "2162      2163       40      823           161            1    credit_card   \n",
              "2238      2239       71      823           164            1          debit   \n",
              "2397      2398       69      823           524            4          debit   \n",
              "2583      2584       12      823           201            1    credit_card   \n",
              "2651      2652       49      823           258            2    credit_card   \n",
              "2805      2806       82      823           708            4    credit_card   \n",
              "2879      2880       39      823           134            1          debit   \n",
              "2902      2903       48      823           234            2    credit_card   \n",
              "3244      3245       74      823           153            1    credit_card   \n",
              "3306      3307       45      823           142            1    credit_card   \n",
              "3400      3401       98      823           133            1    credit_card   \n",
              "3420      3421       61      823           158            1    credit_card   \n",
              "3498      3499       62      823           160            1           cash   \n",
              "3758      3759       63      823           272            2    credit_card   \n",
              "3792      3793       12      823           201            1    credit_card   \n",
              "4287      4288       58      823           138            1          debit   \n",
              "4652      4653       85      823           344            2          debit   \n",
              "4918      4919       78      823         25725            1           cash   \n",
              "4932      4933       92      823            90            1    credit_card   \n",
              "\n",
              "               created_at  \n",
              "54     2017-03-25 4:47:17  \n",
              "181   2017-03-03 16:29:13  \n",
              "524   2017-03-26 17:16:10  \n",
              "1235   2017-03-28 5:12:57  \n",
              "1959   2017-03-29 6:25:06  \n",
              "2162  2017-03-26 16:17:30  \n",
              "2238  2017-03-27 22:17:10  \n",
              "2397   2017-03-02 3:47:32  \n",
              "2583  2017-03-11 10:25:39  \n",
              "2651  2017-03-25 13:05:03  \n",
              "2805  2017-03-23 16:38:29  \n",
              "2879  2017-03-21 19:54:30  \n",
              "2902  2017-03-10 20:20:22  \n",
              "3244  2017-03-03 13:31:44  \n",
              "3306  2017-03-21 17:27:45  \n",
              "3400   2017-03-23 6:53:06  \n",
              "3420  2017-03-10 16:59:18  \n",
              "3498  2017-03-13 21:00:36  \n",
              "3758   2017-03-13 1:08:54  \n",
              "3792   2017-03-29 9:26:09  \n",
              "4287  2017-03-16 17:09:11  \n",
              "4652  2017-03-15 23:23:28  \n",
              "4918  2017-03-15 13:26:46  \n",
              "4932   2017-03-24 2:17:13  "
            ]
          },
          "execution_count": 11,
          "metadata": {},
          "output_type": "execute_result"
        }
      ],
      "source": [
        "shops_df.query('user_id == 823')"
      ]
    },
    {
      "cell_type": "markdown",
      "metadata": {
        "id": "Nw1giW5fqdcW"
      },
      "source": [
        "### 1b. What metric would you report for this dataset?"
      ]
    },
    {
      "cell_type": "markdown",
      "metadata": {
        "id": "0VdmMYTS0rIz"
      },
      "source": [
        " I think median is the better choice for this dataset as it is a measure of central tendency for skewed distribution and is better at dealing with extreme outlier records."
      ]
    },
    {
      "cell_type": "markdown",
      "metadata": {
        "id": "1P47KOY5qdha"
      },
      "source": [
        "### 1c. What is its value?"
      ]
    },
    {
      "cell_type": "markdown",
      "metadata": {
        "id": "QDNjOmbM2Vkq"
      },
      "source": [
        "Its value is $284.0"
      ]
    },
    {
      "cell_type": "code",
      "execution_count": 9,
      "metadata": {
        "colab": {
          "base_uri": "https://localhost:8080/"
        },
        "id": "zCan_jeNrOXR",
        "outputId": "7b5c139f-1779-418b-b67e-ee68919b4586"
      },
      "outputs": [
        {
          "data": {
            "text/plain": [
              "284.0"
            ]
          },
          "execution_count": 9,
          "metadata": {},
          "output_type": "execute_result"
        }
      ],
      "source": [
        "# get the median of the order amounts\n",
        "shops_df['order_amount'].median()"
      ]
    },
    {
      "cell_type": "markdown",
      "metadata": {
        "id": "KHBl5VDhrOXR"
      },
      "source": [
        "## Question 2: Please use SQL queries to answer the following questions."
      ]
    },
    {
      "cell_type": "markdown",
      "metadata": {
        "id": "qsAN9joCrOXR"
      },
      "source": [
        "### 2a. How many orders were shipped by Speedy Express in total?"
      ]
    },
    {
      "cell_type": "markdown",
      "metadata": {
        "id": "hR56X1js2y20"
      },
      "source": [
        "Solution: 54"
      ]
    },
    {
      "cell_type": "code",
      "execution_count": null,
      "metadata": {
        "id": "vLr_yYeCrOXS"
      },
      "outputs": [],
      "source": [
        "# SELECT COUNT(Orders.OrderID) AS CountOfOrders\n",
        "# FROM Orders\n",
        "# LEFT JOIN Shippers on Orders.ShipperID = Shippers.ShipperID\n",
        "# WHERE Shippers.ShipperName = 'Speedy Express'\n",
        "\n",
        "# answer -> 54"
      ]
    },
    {
      "cell_type": "markdown",
      "metadata": {
        "id": "VZXDSE55rOXS"
      },
      "source": [
        "### 2b. What is the last name of the employee with the most orders?"
      ]
    },
    {
      "cell_type": "markdown",
      "metadata": {
        "id": "mkBAzSFq29OV"
      },
      "source": [
        "Solution: Peacock"
      ]
    },
    {
      "cell_type": "code",
      "execution_count": null,
      "metadata": {
        "id": "yltPlOlVrOXS"
      },
      "outputs": [],
      "source": [
        "# SELECT LastName, MAX(NumberOfOrders)\n",
        "# FROM (SELECT Employees.LastName, COUNT(Orders.OrderID) as NumberOfOrders FROM [Orders] \n",
        "# INNER JOIN Employees ON Employees.EmployeeID = Orders.EmployeeID\n",
        "# GROUP BY Employees.EmployeeID) p\n",
        "\n",
        "# answer -> Peacock"
      ]
    },
    {
      "cell_type": "markdown",
      "metadata": {
        "id": "qGnq4yCcrOXT"
      },
      "source": [
        "### 2c. What product was ordered the most by customers in Germany?"
      ]
    },
    {
      "cell_type": "markdown",
      "metadata": {
        "id": "7mchUeIE3kr-"
      },
      "source": [
        "Solution: Gorgonzola Telino"
      ]
    },
    {
      "cell_type": "code",
      "execution_count": null,
      "metadata": {
        "id": "oocHhGCirOXT"
      },
      "outputs": [],
      "source": [
        "# SELECT ProductName, MAX(CountOfProducts) AS MostBoughtProduct\n",
        "# FROM \n",
        "# (\n",
        "#     SELECT Products.ProductName, COUNT(Products.ProductID) AS CountOfProducts\n",
        "#     FROM Customers\n",
        "#     INNER JOIN Orders on Orders.CustomerID = Customers.CustomerID\n",
        "#     INNER JOIN OrderDetails on OrderDetails.OrderID = Orders.OrderID\n",
        "#     INNER JOIN Products on OrderDetails.ProductID = Products.ProductID\n",
        "#     WHERE Customers.Country = 'Germany' \n",
        "#     GROUP BY Products.ProductID\n",
        "# )\n",
        "\n",
        "# answer -> Gorgonzola Telino"
      ]
    }
  ],
  "metadata": {
    "colab": {
      "collapsed_sections": [
        "MIzGuPtXmbOW",
        "rIE4ADo-4lGP"
      ],
      "name": "shopify_datascience_challenge_Qasim_Iqbal.ipynb",
      "provenance": [],
      "toc_visible": true
    },
    "interpreter": {
      "hash": "5a7368ff7cdc52ddb5e44bf63afdf6ce6b912e649d48978d8b3edeb8bc60b54e"
    },
    "kernelspec": {
      "display_name": "Python 3.8.11 ('ai-env')",
      "language": "python",
      "name": "python3"
    },
    "language_info": {
      "codemirror_mode": {
        "name": "ipython",
        "version": 3
      },
      "file_extension": ".py",
      "mimetype": "text/x-python",
      "name": "python",
      "nbconvert_exporter": "python",
      "pygments_lexer": "ipython3",
      "version": "3.8.11"
    },
    "orig_nbformat": 4
  },
  "nbformat": 4,
  "nbformat_minor": 0
}
