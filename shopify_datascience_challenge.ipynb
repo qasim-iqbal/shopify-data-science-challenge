{
  "cells": [
    {
      "cell_type": "markdown",
      "metadata": {
        "id": "Gc-hvlCtrOXF"
      },
      "source": [
        "## Summer 2022 Data Science Intern Challenge"
      ]
    },
    {
      "cell_type": "code",
      "execution_count": null,
      "metadata": {
        "id": "HH0J4g18rOXI"
      },
      "outputs": [],
      "source": [
        "# necessary imports\n",
        "\n",
        "import pandas as pd\n",
        "import seaborn as sns\n",
        "import matplotlib.pyplot as plt \n",
        "from datetime import datetime\n",
        "\n",
        "# required on Jupiter Notebook\n",
        "%matplotlib inline\n",
        "\n",
        "\n",
        "width, height = 15, 6 # display images dimensions\n",
        "plt.rcParams['figure.figsize'] = [width, height]"
      ]
    },
    {
      "cell_type": "markdown",
      "metadata": {
        "id": "RF_tBzJyrOXK"
      },
      "source": [
        "### Q1"
      ]
    },
    {
      "cell_type": "code",
      "execution_count": null,
      "metadata": {
        "id": "bafHie52rOXK"
      },
      "outputs": [],
      "source": [
        "# data source provided in challenge\n",
        "sheet_url = \"https://docs.google.com/spreadsheets/d/16i38oonuX1y1g7C_UAmiK9GkY7cS-64DfiDMNiR41LM/edit#gid=0\"\n",
        "\n",
        "url = sheet_url.replace('/edit#gid=', '/export?format=csv&gid=')"
      ]
    },
    {
      "cell_type": "code",
      "execution_count": null,
      "metadata": {
        "id": "e07dxeqsrOXL"
      },
      "outputs": [],
      "source": [
        "# read data in and set \"created_at\" as the index column. This makes it easier to access data by passing date as key to dataframe\n",
        "shops_df = pd.read_csv(url_1 , index_col='created_at')\n",
        "\n",
        "# convert string datetime to timestamp, so we can access data for each date directly from dataframe\n",
        "shops_df.index = [pd.to_datetime(x) for x in shops_df.index]"
      ]
    },
    {
      "cell_type": "code",
      "execution_count": null,
      "metadata": {
        "colab": {
          "base_uri": "https://localhost:8080/",
          "height": 206
        },
        "id": "GbcCyCGOrOXL",
        "outputId": "7bcb84ba-1446-4657-8a89-3fa38bfca2fd"
      },
      "outputs": [
        {
          "data": {
            "text/html": [
              "\n",
              "  <div id=\"df-40dd1e1a-f9b5-414f-9dac-4f90ec73ae73\">\n",
              "    <div class=\"colab-df-container\">\n",
              "      <div>\n",
              "<style scoped>\n",
              "    .dataframe tbody tr th:only-of-type {\n",
              "        vertical-align: middle;\n",
              "    }\n",
              "\n",
              "    .dataframe tbody tr th {\n",
              "        vertical-align: top;\n",
              "    }\n",
              "\n",
              "    .dataframe thead th {\n",
              "        text-align: right;\n",
              "    }\n",
              "</style>\n",
              "<table border=\"1\" class=\"dataframe\">\n",
              "  <thead>\n",
              "    <tr style=\"text-align: right;\">\n",
              "      <th></th>\n",
              "      <th>order_id</th>\n",
              "      <th>shop_id</th>\n",
              "      <th>user_id</th>\n",
              "      <th>order_amount</th>\n",
              "      <th>total_items</th>\n",
              "      <th>payment_method</th>\n",
              "    </tr>\n",
              "  </thead>\n",
              "  <tbody>\n",
              "    <tr>\n",
              "      <th>2017-03-13 12:36:56</th>\n",
              "      <td>1</td>\n",
              "      <td>53</td>\n",
              "      <td>746</td>\n",
              "      <td>224</td>\n",
              "      <td>2</td>\n",
              "      <td>cash</td>\n",
              "    </tr>\n",
              "    <tr>\n",
              "      <th>2017-03-03 17:38:52</th>\n",
              "      <td>2</td>\n",
              "      <td>92</td>\n",
              "      <td>925</td>\n",
              "      <td>90</td>\n",
              "      <td>1</td>\n",
              "      <td>cash</td>\n",
              "    </tr>\n",
              "    <tr>\n",
              "      <th>2017-03-14 04:23:56</th>\n",
              "      <td>3</td>\n",
              "      <td>44</td>\n",
              "      <td>861</td>\n",
              "      <td>144</td>\n",
              "      <td>1</td>\n",
              "      <td>cash</td>\n",
              "    </tr>\n",
              "    <tr>\n",
              "      <th>2017-03-26 12:43:37</th>\n",
              "      <td>4</td>\n",
              "      <td>18</td>\n",
              "      <td>935</td>\n",
              "      <td>156</td>\n",
              "      <td>1</td>\n",
              "      <td>credit_card</td>\n",
              "    </tr>\n",
              "    <tr>\n",
              "      <th>2017-03-01 04:35:11</th>\n",
              "      <td>5</td>\n",
              "      <td>18</td>\n",
              "      <td>883</td>\n",
              "      <td>156</td>\n",
              "      <td>1</td>\n",
              "      <td>credit_card</td>\n",
              "    </tr>\n",
              "  </tbody>\n",
              "</table>\n",
              "</div>\n",
              "      <button class=\"colab-df-convert\" onclick=\"convertToInteractive('df-40dd1e1a-f9b5-414f-9dac-4f90ec73ae73')\"\n",
              "              title=\"Convert this dataframe to an interactive table.\"\n",
              "              style=\"display:none;\">\n",
              "        \n",
              "  <svg xmlns=\"http://www.w3.org/2000/svg\" height=\"24px\"viewBox=\"0 0 24 24\"\n",
              "       width=\"24px\">\n",
              "    <path d=\"M0 0h24v24H0V0z\" fill=\"none\"/>\n",
              "    <path d=\"M18.56 5.44l.94 2.06.94-2.06 2.06-.94-2.06-.94-.94-2.06-.94 2.06-2.06.94zm-11 1L8.5 8.5l.94-2.06 2.06-.94-2.06-.94L8.5 2.5l-.94 2.06-2.06.94zm10 10l.94 2.06.94-2.06 2.06-.94-2.06-.94-.94-2.06-.94 2.06-2.06.94z\"/><path d=\"M17.41 7.96l-1.37-1.37c-.4-.4-.92-.59-1.43-.59-.52 0-1.04.2-1.43.59L10.3 9.45l-7.72 7.72c-.78.78-.78 2.05 0 2.83L4 21.41c.39.39.9.59 1.41.59.51 0 1.02-.2 1.41-.59l7.78-7.78 2.81-2.81c.8-.78.8-2.07 0-2.86zM5.41 20L4 18.59l7.72-7.72 1.47 1.35L5.41 20z\"/>\n",
              "  </svg>\n",
              "      </button>\n",
              "      \n",
              "  <style>\n",
              "    .colab-df-container {\n",
              "      display:flex;\n",
              "      flex-wrap:wrap;\n",
              "      gap: 12px;\n",
              "    }\n",
              "\n",
              "    .colab-df-convert {\n",
              "      background-color: #E8F0FE;\n",
              "      border: none;\n",
              "      border-radius: 50%;\n",
              "      cursor: pointer;\n",
              "      display: none;\n",
              "      fill: #1967D2;\n",
              "      height: 32px;\n",
              "      padding: 0 0 0 0;\n",
              "      width: 32px;\n",
              "    }\n",
              "\n",
              "    .colab-df-convert:hover {\n",
              "      background-color: #E2EBFA;\n",
              "      box-shadow: 0px 1px 2px rgba(60, 64, 67, 0.3), 0px 1px 3px 1px rgba(60, 64, 67, 0.15);\n",
              "      fill: #174EA6;\n",
              "    }\n",
              "\n",
              "    [theme=dark] .colab-df-convert {\n",
              "      background-color: #3B4455;\n",
              "      fill: #D2E3FC;\n",
              "    }\n",
              "\n",
              "    [theme=dark] .colab-df-convert:hover {\n",
              "      background-color: #434B5C;\n",
              "      box-shadow: 0px 1px 3px 1px rgba(0, 0, 0, 0.15);\n",
              "      filter: drop-shadow(0px 1px 2px rgba(0, 0, 0, 0.3));\n",
              "      fill: #FFFFFF;\n",
              "    }\n",
              "  </style>\n",
              "\n",
              "      <script>\n",
              "        const buttonEl =\n",
              "          document.querySelector('#df-40dd1e1a-f9b5-414f-9dac-4f90ec73ae73 button.colab-df-convert');\n",
              "        buttonEl.style.display =\n",
              "          google.colab.kernel.accessAllowed ? 'block' : 'none';\n",
              "\n",
              "        async function convertToInteractive(key) {\n",
              "          const element = document.querySelector('#df-40dd1e1a-f9b5-414f-9dac-4f90ec73ae73');\n",
              "          const dataTable =\n",
              "            await google.colab.kernel.invokeFunction('convertToInteractive',\n",
              "                                                     [key], {});\n",
              "          if (!dataTable) return;\n",
              "\n",
              "          const docLinkHtml = 'Like what you see? Visit the ' +\n",
              "            '<a target=\"_blank\" href=https://colab.research.google.com/notebooks/data_table.ipynb>data table notebook</a>'\n",
              "            + ' to learn more about interactive tables.';\n",
              "          element.innerHTML = '';\n",
              "          dataTable['output_type'] = 'display_data';\n",
              "          await google.colab.output.renderOutput(dataTable, element);\n",
              "          const docLink = document.createElement('div');\n",
              "          docLink.innerHTML = docLinkHtml;\n",
              "          element.appendChild(docLink);\n",
              "        }\n",
              "      </script>\n",
              "    </div>\n",
              "  </div>\n",
              "  "
            ],
            "text/plain": [
              "                     order_id  shop_id  user_id  order_amount  total_items  \\\n",
              "2017-03-13 12:36:56         1       53      746           224            2   \n",
              "2017-03-03 17:38:52         2       92      925            90            1   \n",
              "2017-03-14 04:23:56         3       44      861           144            1   \n",
              "2017-03-26 12:43:37         4       18      935           156            1   \n",
              "2017-03-01 04:35:11         5       18      883           156            1   \n",
              "\n",
              "                    payment_method  \n",
              "2017-03-13 12:36:56           cash  \n",
              "2017-03-03 17:38:52           cash  \n",
              "2017-03-14 04:23:56           cash  \n",
              "2017-03-26 12:43:37    credit_card  \n",
              "2017-03-01 04:35:11    credit_card  "
            ]
          },
          "execution_count": 10,
          "metadata": {},
          "output_type": "execute_result"
        }
      ],
      "source": [
        "shops_df.head()"
      ]
    },
    {
      "cell_type": "code",
      "execution_count": null,
      "metadata": {
        "colab": {
          "base_uri": "https://localhost:8080/"
        },
        "id": "G-Xf6IpCrOXM",
        "outputId": "a799fe02-f19f-4ac6-f26d-5a7659748a27"
      },
      "outputs": [
        {
          "name": "stdout",
          "output_type": "stream",
          "text": [
            "order_id  :  0\n",
            "shop_id  :  0\n",
            "user_id  :  0\n",
            "order_amount  :  0\n",
            "total_items  :  0\n",
            "payment_method  :  0\n"
          ]
        }
      ],
      "source": [
        "# check if there are null or empty records in any column\n",
        "for c in shops_df.columns:\n",
        "    print(c,\" : \", shops_df[c].isna().sum()) # get count of NA records and sum them"
      ]
    },
    {
      "cell_type": "code",
      "execution_count": null,
      "metadata": {
        "colab": {
          "base_uri": "https://localhost:8080/",
          "height": 318
        },
        "id": "G4jCbMZprOXN",
        "outputId": "c910eaac-6eed-456d-8edc-d9fe30bcb7ee"
      },
      "outputs": [
        {
          "data": {
            "text/plain": [
              "<matplotlib.axes._subplots.AxesSubplot at 0x7fdd83a80ad0>"
            ]
          },
          "execution_count": 6,
          "metadata": {},
          "output_type": "execute_result"
        },
        {
          "data": {
            "image/png": "[encoded data removed]",
            "text/plain": [
              "<Figure size 432x288 with 1 Axes>"
            ]
          },
          "metadata": {
            "needs_background": "light"
          },
          "output_type": "display_data"
        }
      ],
      "source": [
        "# look at mean by daily\n",
        "shops_df.resample('D').mean()['order_amount'].plot()"
      ]
    },
    {
      "cell_type": "code",
      "execution_count": null,
      "metadata": {
        "colab": {
          "base_uri": "https://localhost:8080/",
          "height": 318
        },
        "id": "-EIsFuX9yB1n",
        "outputId": "99db65b8-1107-44ce-db53-47508bd5ab52"
      },
      "outputs": [
        {
          "data": {
            "text/plain": [
              "<matplotlib.axes._subplots.AxesSubplot at 0x7fdd800f1e10>"
            ]
          },
          "execution_count": 12,
          "metadata": {},
          "output_type": "execute_result"
        },
        {
          "data": {
            "image/png": "[encoded data removed]",
            "text/plain": [
              "<Figure size 432x288 with 1 Axes>"
            ]
          },
          "metadata": {
            "needs_background": "light"
          },
          "output_type": "display_data"
        }
      ],
      "source": [
        "shops_df.resample('D').mean()['order_amount'].plot()"
      ]
    },
    {
      "cell_type": "code",
      "execution_count": null,
      "metadata": {
        "colab": {
          "base_uri": "https://localhost:8080/",
          "height": 313
        },
        "id": "Qk9h-WlwrOXO",
        "outputId": "ae25180c-cd80-4f02-a63f-e8e1761506b4"
      },
      "outputs": [
        {
          "data": {
            "text/plain": [
              "[]"
            ]
          },
          "execution_count": 13,
          "metadata": {},
          "output_type": "execute_result"
        },
        {
          "data": {
            "image/png": "[encoded data removed]",
            "text/plain": [
              "<Figure size 432x288 with 1 Axes>"
            ]
          },
          "metadata": {
            "needs_background": "light"
          },
          "output_type": "display_data"
        }
      ],
      "source": [
        "# check visually what order amounts look like for each shop\n",
        "plt.title(\"shop_id vs order_amount\")\n",
        "plt.xlabel(\"Shop ID\")\n",
        "plt.ylabel(\"Order amount\")\n",
        "plt.bar(shops_df['shop_id'], shops_df['order_amount'])\n",
        "plt.plot()"
      ]
    },
    {
      "cell_type": "markdown",
      "metadata": {
        "id": "NkiFj1GtrOXP"
      },
      "source": [
        "In bar plot above we can see that, there are two anomaly records shop_id 41 and 78.\n",
        "These two shops can make the total average way off, as the average is the sum of all order amounts by each shop and then divided by the total number of shops.\n",
        "These anomaly records can be a error in typing or just very expensive shoes."
      ]
    },
    {
      "cell_type": "code",
      "execution_count": null,
      "metadata": {
        "colab": {
          "base_uri": "https://localhost:8080/"
        },
        "id": "l5CGfiiDrOXP",
        "outputId": "6468bfa2-3611-428b-f29f-9ed025ee0d44"
      },
      "outputs": [
        {
          "data": {
            "text/plain": [
              "704000"
            ]
          },
          "execution_count": 14,
          "metadata": {},
          "output_type": "execute_result"
        }
      ],
      "source": [
        "# we can look at the maximum value here\n",
        "shops_df['order_amount'].max()"
      ]
    },
    {
      "cell_type": "code",
      "execution_count": null,
      "metadata": {
        "colab": {
          "base_uri": "https://localhost:8080/"
        },
        "id": "HDNk2x5OrOXP",
        "outputId": "dc5c3bcd-953a-462f-c17b-7a1e1f133fe7"
      },
      "outputs": [
        {
          "data": {
            "text/plain": [
              "90"
            ]
          },
          "execution_count": 15,
          "metadata": {},
          "output_type": "execute_result"
        }
      ],
      "source": [
        "# minimum seems like its not too far from average\n",
        "shops_df['order_amount'].min()"
      ]
    },
    {
      "cell_type": "code",
      "execution_count": null,
      "metadata": {
        "colab": {
          "base_uri": "https://localhost:8080/"
        },
        "id": "i4E0alFFrOXQ",
        "outputId": "645bc41d-dbe8-41d4-90de-f0df24236ab1"
      },
      "outputs": [
        {
          "data": {
            "text/plain": [
              "3145.128"
            ]
          },
          "execution_count": 16,
          "metadata": {},
          "output_type": "execute_result"
        }
      ],
      "source": [
        "# here is the mean value\n",
        "shops_df['order_amount'].mean()"
      ]
    },
    {
      "cell_type": "code",
      "execution_count": null,
      "metadata": {
        "colab": {
          "base_uri": "https://localhost:8080/"
        },
        "id": "Y741nRLvrOXQ",
        "outputId": "b361eef3-0e48-44f2-f5f3-bfd4bfcc71b6"
      },
      "outputs": [
        {
          "data": {
            "text/plain": [
              "0    153\n",
              "dtype: int64"
            ]
          },
          "execution_count": 17,
          "metadata": {},
          "output_type": "execute_result"
        }
      ],
      "source": [
        "# mode is the most common value in the range\n",
        "shops_df['order_amount'].mode()"
      ]
    },
    {
      "cell_type": "code",
      "execution_count": null,
      "metadata": {
        "colab": {
          "base_uri": "https://localhost:8080/"
        },
        "id": "zCan_jeNrOXR",
        "outputId": "11394fae-8b9f-4a04-e757-f9412a704532"
      },
      "outputs": [
        {
          "data": {
            "text/plain": [
              "284.0"
            ]
          },
          "execution_count": 18,
          "metadata": {},
          "output_type": "execute_result"
        }
      ],
      "source": [
        "# median is the middle of the set of numbers, which I think is the better approach for this problem\n",
        "shops_df['order_amount'].median()"
      ]
    },
    {
      "cell_type": "markdown",
      "metadata": {
        "id": "KHBl5VDhrOXR"
      },
      "source": [
        "## Q2"
      ]
    },
    {
      "cell_type": "markdown",
      "metadata": {
        "id": "qsAN9joCrOXR"
      },
      "source": [
        "How many orders were shipped by Speedy Express in total?"
      ]
    },
    {
      "cell_type": "code",
      "execution_count": null,
      "metadata": {
        "id": "vLr_yYeCrOXS"
      },
      "outputs": [],
      "source": [
        "# SELECT COUNT(Orders.OrderID) AS CountOfOrders\n",
        "# FROM Orders\n",
        "# LEFT JOIN Shippers on Orders.ShipperID = Shippers.ShipperID\n",
        "# WHERE Shippers.ShipperName = 'Speedy Express'\n",
        "\n",
        "# answer -> 54"
      ]
    },
    {
      "cell_type": "markdown",
      "metadata": {
        "id": "VZXDSE55rOXS"
      },
      "source": [
        "What is the last name of the employee with the most orders?"
      ]
    },
    {
      "cell_type": "code",
      "execution_count": null,
      "metadata": {
        "id": "yltPlOlVrOXS"
      },
      "outputs": [],
      "source": [
        "# SELECT LastName, MAX(NumberOfOrders)\n",
        "# FROM (SELECT Employees.LastName, COUNT(Orders.OrderID) as NumberOfOrders FROM [Orders] \n",
        "# INNER JOIN Employees ON Employees.EmployeeID = Orders.EmployeeID\n",
        "# GROUP BY Employees.EmployeeID) p\n",
        "\n",
        "# answer -> Peacock"
      ]
    },
    {
      "cell_type": "markdown",
      "metadata": {
        "id": "qGnq4yCcrOXT"
      },
      "source": [
        "What product was ordered the most by customers in Germany?"
      ]
    },
    {
      "cell_type": "code",
      "execution_count": null,
      "metadata": {
        "id": "oocHhGCirOXT"
      },
      "outputs": [],
      "source": [
        "# SELECT ProductName, MAX(CountOfProducts) AS MostBoughtProduct\n",
        "# FROM \n",
        "# (\n",
        "#     SELECT Products.ProductName, COUNT(Products.ProductID) AS CountOfProducts\n",
        "#     FROM Customers\n",
        "#     INNER JOIN Orders on Orders.CustomerID = Customers.CustomerID\n",
        "#     INNER JOIN OrderDetails on OrderDetails.OrderID = Orders.OrderID\n",
        "#     INNER JOIN Products on OrderDetails.ProductID = Products.ProductID\n",
        "#     WHERE Customers.Country = 'Germany' \n",
        "#     GROUP BY Products.ProductID\n",
        "# )\n",
        "\n",
        "# answer -> Gorgonzola Telino"
      ]
    },
    {
      "cell_type": "code",
      "execution_count": null,
      "metadata": {
        "id": "YObvXw_SrOXT"
      },
      "outputs": [],
      "source": []
    }
  ],
  "metadata": {
    "colab": {
      "name": "shopify_datascience_challenge.ipynb",
      "provenance": []
    },
    "interpreter": {
      "hash": "5a7368ff7cdc52ddb5e44bf63afdf6ce6b912e649d48978d8b3edeb8bc60b54e"
    },
    "kernelspec": {
      "display_name": "Python 3.8.11 ('ai-env')",
      "language": "python",
      "name": "python3"
    },
    "language_info": {
      "codemirror_mode": {
        "name": "ipython",
        "version": 3
      },
      "file_extension": ".py",
      "mimetype": "text/x-python",
      "name": "python",
      "nbconvert_exporter": "python",
      "pygments_lexer": "ipython3",
      "version": "3.8.11"
    },
    "orig_nbformat": 4
  },
  "nbformat": 4,
  "nbformat_minor": 0
}
